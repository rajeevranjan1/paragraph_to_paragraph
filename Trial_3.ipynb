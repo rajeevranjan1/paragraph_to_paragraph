{
 "cells": [
  {
   "cell_type": "code",
   "execution_count": 1,
   "id": "a89e1568-3d66-4755-afbe-106d610718d9",
   "metadata": {},
   "outputs": [],
   "source": [
    "import numpy as np\n",
    "import pandas as pd"
   ]
  },
  {
   "cell_type": "code",
   "execution_count": 2,
   "id": "2cef30ba-daab-4a7b-a893-5dcb312e4a64",
   "metadata": {},
   "outputs": [],
   "source": [
    "df=pd.read_csv('input_output.csv')"
   ]
  },
  {
   "cell_type": "code",
   "execution_count": 3,
   "id": "fd069b94-70d0-4225-a390-7485fa878cbc",
   "metadata": {},
   "outputs": [
    {
     "data": {
      "text/html": [
       "<div>\n",
       "<style scoped>\n",
       "    .dataframe tbody tr th:only-of-type {\n",
       "        vertical-align: middle;\n",
       "    }\n",
       "\n",
       "    .dataframe tbody tr th {\n",
       "        vertical-align: top;\n",
       "    }\n",
       "\n",
       "    .dataframe thead th {\n",
       "        text-align: right;\n",
       "    }\n",
       "</style>\n",
       "<table border=\"1\" class=\"dataframe\">\n",
       "  <thead>\n",
       "    <tr style=\"text-align: right;\">\n",
       "      <th></th>\n",
       "      <th>input_text</th>\n",
       "      <th>target_text</th>\n",
       "    </tr>\n",
       "  </thead>\n",
       "  <tbody>\n",
       "    <tr>\n",
       "      <th>0</th>\n",
       "      <td>Excursion details -1st Stage Separator train B...</td>\n",
       "      <td>- If feasible line up  34' Bypass  in line wh...</td>\n",
       "    </tr>\n",
       "  </tbody>\n",
       "</table>\n",
       "</div>"
      ],
      "text/plain": [
       "                                          input_text  \\\n",
       "0  Excursion details -1st Stage Separator train B...   \n",
       "\n",
       "                                         target_text  \n",
       "0   - If feasible line up  34' Bypass  in line wh...  "
      ]
     },
     "execution_count": 3,
     "metadata": {},
     "output_type": "execute_result"
    }
   ],
   "source": [
    "df.head(1)"
   ]
  },
  {
   "cell_type": "code",
   "execution_count": 4,
   "id": "36425d8e-1d65-4de8-a4c0-130058a45bf0",
   "metadata": {},
   "outputs": [],
   "source": [
    "pd.set_option('display.max_colwidth',None)"
   ]
  },
  {
   "cell_type": "code",
   "execution_count": 5,
   "id": "05c357de-fbce-47e5-8652-3d7505d6c47a",
   "metadata": {},
   "outputs": [
    {
     "data": {
      "text/html": [
       "<div>\n",
       "<style scoped>\n",
       "    .dataframe tbody tr th:only-of-type {\n",
       "        vertical-align: middle;\n",
       "    }\n",
       "\n",
       "    .dataframe tbody tr th {\n",
       "        vertical-align: top;\n",
       "    }\n",
       "\n",
       "    .dataframe thead th {\n",
       "        text-align: right;\n",
       "    }\n",
       "</style>\n",
       "<table border=\"1\" class=\"dataframe\">\n",
       "  <thead>\n",
       "    <tr style=\"text-align: right;\">\n",
       "      <th></th>\n",
       "      <th>input_text</th>\n",
       "      <th>target_text</th>\n",
       "    </tr>\n",
       "  </thead>\n",
       "  <tbody>\n",
       "    <tr>\n",
       "      <th>0</th>\n",
       "      <td>Excursion details -1st Stage Separator train B oil level went more than high high limit 2 to 3 time i.e. more than 89.5% after startup.\\n\\nAnalysis - Level control valve was 100% open  working as per level control philosphy  but more flow can be achieved through bypass\\n</td>\n",
       "      <td>- If feasible line up  34' Bypass  in line whenevr level build up suddenly in any of two 1st stage  separator train A or B</td>\n",
       "    </tr>\n",
       "  </tbody>\n",
       "</table>\n",
       "</div>"
      ],
      "text/plain": [
       "                                                                                                                                                                                                                                                                        input_text  \\\n",
       "0  Excursion details -1st Stage Separator train B oil level went more than high high limit 2 to 3 time i.e. more than 89.5% after startup.\\n\\nAnalysis - Level control valve was 100% open  working as per level control philosphy  but more flow can be achieved through bypass\\n   \n",
       "\n",
       "                                                                                                                    target_text  \n",
       "0   - If feasible line up  34' Bypass  in line whenevr level build up suddenly in any of two 1st stage  separator train A or B   "
      ]
     },
     "execution_count": 5,
     "metadata": {},
     "output_type": "execute_result"
    }
   ],
   "source": [
    "df.head(1)"
   ]
  },
  {
   "cell_type": "code",
   "execution_count": 6,
   "id": "adb74d09-5fab-41b3-9f29-35354e1cb4b1",
   "metadata": {},
   "outputs": [],
   "source": [
    "from sklearn.model_selection import train_test_split"
   ]
  },
  {
   "cell_type": "code",
   "execution_count": 7,
   "id": "fcbd9b5b-7d7d-4e9e-8519-73aec6b03580",
   "metadata": {},
   "outputs": [],
   "source": [
    "train_df, val_df = train_test_split(df, test_size=0.1,random_state=1)"
   ]
  },
  {
   "cell_type": "code",
   "execution_count": 8,
   "id": "e32c6dbe-2813-4b62-bfe0-a97e7308eadf",
   "metadata": {},
   "outputs": [
    {
     "data": {
      "text/plain": [
       "Index([41, 19, 35, 34, 33, 43, 32, 23, 17, 31, 29, 36, 40,  4, 24, 14, 10, 39,\n",
       "       26, 27, 38, 20, 18, 25,  6, 28, 13,  7, 42,  1, 16,  0, 15,  5, 11,  9,\n",
       "        8, 12, 37],\n",
       "      dtype='int64')"
      ]
     },
     "execution_count": 8,
     "metadata": {},
     "output_type": "execute_result"
    }
   ],
   "source": [
    "train_df.index"
   ]
  },
  {
   "cell_type": "code",
   "execution_count": 9,
   "id": "053cab20-6a36-460d-a4d7-09457a09f845",
   "metadata": {},
   "outputs": [
    {
     "data": {
      "text/plain": [
       "Index([3, 2, 30, 21, 22], dtype='int64')"
      ]
     },
     "execution_count": 9,
     "metadata": {},
     "output_type": "execute_result"
    }
   ],
   "source": [
    "val_df.index"
   ]
  },
  {
   "cell_type": "code",
   "execution_count": 10,
   "id": "600b4385-fb8f-462a-b50f-6cdf8ab4f914",
   "metadata": {},
   "outputs": [
    {
     "name": "stderr",
     "output_type": "stream",
     "text": [
      "C:\\Users\\Rajeev\\AppData\\Local\\Programs\\Python\\Python311\\Lib\\site-packages\\tqdm\\auto.py:21: TqdmWarning: IProgress not found. Please update jupyter and ipywidgets. See https://ipywidgets.readthedocs.io/en/stable/user_install.html\n",
      "  from .autonotebook import tqdm as notebook_tqdm\n"
     ]
    }
   ],
   "source": [
    "from transformers import T5Tokenizer, T5ForConditionalGeneration, Trainer, TrainingArguments\n",
    "from torch.utils.data import Dataset, DataLoader\n"
   ]
  },
  {
   "cell_type": "code",
   "execution_count": 11,
   "id": "ef34ac3e-7f8c-467f-b1a9-d3ae294db248",
   "metadata": {},
   "outputs": [],
   "source": [
    "class ParagraphDataset(Dataset):\n",
    "    def __init__(self, tokenizer, data, max_length=512):\n",
    "        self.tokenizer = tokenizer\n",
    "        self.input_texts = data['input_text'].tolist()\n",
    "        self.target_texts = data['target_text'].tolist()\n",
    "        self.max_length = max_length\n",
    "\n",
    "    def __len__(self):\n",
    "        return len(self.input_texts)\n",
    "\n",
    "    def __getitem__(self, idx):\n",
    "        source = self.input_texts[idx]\n",
    "        target = self.target_texts[idx]\n",
    "\n",
    "        source_tokenized = self.tokenizer(source, padding='max_length', truncation=True, max_length=self.max_length, return_tensors=\"pt\")\n",
    "        target_tokenized = self.tokenizer(target, padding='max_length', truncation=True, max_length=self.max_length, return_tensors=\"pt\")\n",
    "\n",
    "        return {\"input_ids\": source_tokenized.input_ids.squeeze(), \"attention_mask\": source_tokenized.attention_mask.squeeze(), \"labels\": target_tokenized.input_ids.squeeze()}\n"
   ]
  },
  {
   "cell_type": "code",
   "execution_count": 12,
   "id": "0180b012-352a-45a3-af01-70a91b336e2e",
   "metadata": {},
   "outputs": [
    {
     "name": "stderr",
     "output_type": "stream",
     "text": [
      "You are using the default legacy behaviour of the <class 'transformers.models.t5.tokenization_t5.T5Tokenizer'>. This is expected, and simply means that the `legacy` (previous) behavior will be used so nothing changes for you. If you want to use the new behaviour, set `legacy=False`. This should only be set if you understand what it means, and thoroughly read the reason why this was added as explained in https://github.com/huggingface/transformers/pull/24565\n",
      "Special tokens have been added in the vocabulary, make sure the associated word embeddings are fine-tuned or trained.\n"
     ]
    }
   ],
   "source": [
    "# Initialize the tokenizer and model\n",
    "tokenizer = T5Tokenizer.from_pretrained(\"t5-small\")\n",
    "model = T5ForConditionalGeneration.from_pretrained(\"t5-small\")"
   ]
  },
  {
   "cell_type": "code",
   "execution_count": 13,
   "id": "f149d37e-2bf9-4527-be7a-078f5f8d2afd",
   "metadata": {},
   "outputs": [],
   "source": [
    "# Prepare the datasets\n",
    "train_dataset = ParagraphDataset(tokenizer, train_df)\n",
    "val_dataset = ParagraphDataset(tokenizer, val_df)\n"
   ]
  },
  {
   "cell_type": "code",
   "execution_count": 20,
   "id": "17351734-1628-447d-86bb-dfd7c71302b3",
   "metadata": {},
   "outputs": [
    {
     "data": {
      "text/plain": [
       "['Excursion details MP compressor Discharge and Seperator pressure fluctuation\\r\\n\\r\\nAnalysis  It has been observed that MP compressor discharge pressure is fluctuating a lot in the range of 46 bar to 53 bar (LSLL 40Bar) ,The earlier operating range was 49-52Bar .This fluctuation range is observed after 29th March. from both first stage separator as well which might be because of sluggish flow\\r\\n\\r',\n",
       " 'Excursion details - HP 2 suction scrubber VZ3106A Level transmitter 5LI310619A &5LI310620A not working\\r\\n\\r\\nAnalysis  .HP 2 suction scrubber VZ3106A both level transmitter 5LI310620A and 5LI310619A. has been observed to be continuously on  ve side. This has been particularly observed after the last startup, Level Build up and carryover to The Compressor is highly detrimental to the Machine Healthiness\\r\\n\\r',\n",
       " 'Excursion details It has been observed that Fuel gas filter VF7001A/B PDIT USN_5PDI700142.PV is faulty\\r\\n\\r\\nAnalysis  1)It has  been observed that fuel gas filter DP USN_5PDI700142.PV is shwoing -ve value since long time,The Filter consist of candle filter to absorb dust or mositure in fuel gas.\\r\\n\\r',\n",
       " 'Excursion details It has been observed that Wash tank HU TZ 2101 B Oil level (USN_4LI210117B.PV) is around 25 meters \\r\\n\\r\\nAnalysis  1)This reading acts as the input for the level controller   LIC(LIC210117B) to control the Wash tank oil level by controlling the Flow on the service pump (USN_4PA2102B1.PV).\\r\\n\\r\\nThe level response does not seem correct as the level gets struck at higher values of 25 m ,Also since the level control is set in manual we run the risk of over flooding the Oil side .\\r\\n\\r\\nThe reference LI (LI210118B) installed on the oil side reads level around 20m meters and is somewhat more reliable, However observed reaching around 27mtr Which is more than alarm value.\\r\\n\\r\\nIt is advised to check the Controlling Level transmitter 4LI210117B & then put the Level control in auto operation for effective process control. also for the sake of understanding wanted to know when the second pump is started to control excess level.\\r\\n\\r\\n \\r\\n\\r',\n",
       " 'Excursion details It has been observed that Wash tank HU TZ 2101 B Oil level (USN_4LI210117B.PV) is around 25 meters \\r\\n\\r\\nAnalysis  1)This reading acts as the input for the level controller   LIC(LIC210117B) to control the Wash tank oil level by controlling the Flow on the service pump (USN_4PA2102B1.PV).\\r\\n\\r\\nThe level response does not seem correct as the level gets struck at higher values of 25 m ,Also since the level control is set in manual we run the risk of over flooding the Oil side .\\r\\n\\r\\nThe reference LI (LI210118B) installed on the oil side reads level around 20m meters and is somewhat more reliable, However observed reaching around 27mtr Which is more than alarm value.\\r\\n\\r\\nIt is advised to check the Controlling Level transmitter 4LI210117B & then put the Level control in auto operation for effective process control. also for the sake of understanding wanted to know when the second pump is started to control excess level.\\r\\n\\r\\n \\r\\n\\r',\n",
       " 'Excursion  HP Fuel gas Scrubber VZ001 Level Control valve 5LV70012 Suspected Passing\\r\\n\\r\\nAnalysis  It has been observed that HP fuel gas scrubber level is being drained though Level control valve LV700102 is closed  ,The both level  transmitter are DP type and having process alarm on the lower side of LI700103 (300mm) as per P&ID ,It is also evident from last 1 week(19th June -28th june) trend that scrubber level is decreasing  from 31% to 12% 30th june.\\r\\n\\r',\n",
       " 'Excursion details  2nd stage separator(VZ2002) gas flow meter USN_5FI200207.PV to LP flare line reading obsolete value\\r\\n\\r\\nAnalysis  1) It has been observed that   USN_5FI200207.PV 2nd stage separator(VZ2002)  gas flow meter USN_5FI200207.PV to LP flare line reading obsolete value.\\r\\n\\r',\n",
       " 'Excursion details -  HP flaring observed from TEG A contactor VZ3002A  outlet stream to HP flare warm header, Flow meter 5FI300213A.PV\\r\\n\\r\\nAnalysis  ?It has been observed that continuous Flaring of 5   10 m3/hr occurs from Teg A contactor outlet stream to HP warm header 5FI300213A.PV.This flaring accounts to roughly 5 % of the total gas fed towards the fuel gas and HP1 compressor section The control valve on the HP warm header is completely closed as evident from feedback (5HIC300214A.OUT).\\r\\n\\r\\n \\r\\n\\r',\n",
       " 'Excursion details - The TEG A still column top temperature 5TI300602A  has decreased to 65 deg c from 95 degc since train A was taken in line . The transmitter is not suspected to be faulty as there is value pulsation in the Transmitter.\\r\\n\\r\\n \\r\\n\\r\\nAnalysis  It is evident from trend   The Still Reflux Temperature control valve 5TV300602A is 100 percent open , completely bypassing the Cold Rich TEG stream feed to the Reflux condenser section of the still .\\r\\n\\r\\n  The Reboiler Temperature in the still Column is 199 Deg c which is normal & is sufficient to Boil off Water content from the TEG stream at near to atmospheric Pressure  in the system\\r\\n\\r\\n \\r\\n\\r',\n",
       " 'Excursion details  USN_5FI300432A-S.PV Lean Glycol Circulation flowmeter reading more than design flow \\r\\n\\r\\nAnalysis  1) It has been observed that  USN_5FI300432A-S.PV Lean Glycol Circulation flowmeter reading more than design flow,As per P&ID lean glycol circulation rate should not exceed 7.5 m3/hr<however currently Lean glycol circulation rate is 8.7M3/Hr which is increasing load on overall system and effecting gas to lean glycol absorption\\r\\n\\r',\n",
       " 'Excursion details HP KOD VZ3601 Level LIC USN_5LIC360103.PV observed in manual condition\\r\\n\\r\\nAnalysis  1) It has been observed that the HP kod  LIC USN_5LIC360103.PV observed in manual condition and Liquid handling pumps suction discharge and flow transmitter USN_FC62320_1.MEAS not working properly\\r\\n\\r',\n",
       " 'Excursion details TEGA Surge Drum Temperature transmitter 5TI300805A and 5TI300806A fluctuation &  maintaining at higher side average of 114 DEGC.\\r\\n\\r\\nAnalysis  1) It has been observed that TEGA surge drum temperature oscillating  more in short period of time, It looks like transmitter oscillation is abnormal and it is oscillating in 10degree C of range in 30 min.\\r\\n\\r',\n",
       " 'Excursion details TEGA  Glycol Cotactor gas outlet flowmeter USN_5FI300212A.PV is showing wrong value.\\r\\n\\r\\nAnalysis  It has been observed that Glycol Cotactor VZ3002A  gas outlet flowmeterUSN_5FI300212A.PV is showing wrong value.It is observed that flowmter value is oscillatiing in between 160 to 170m3/hr of range and flow is very very  less compare to comparessor inlet flow.\\r\\n\\r',\n",
       " 'Excursion details -ES3008A Lean glycol cold cooler suspected choking as it is not able cool the lean glycol below 55 Deg C\\r\\n\\r\\nAnalysis -As it is evident from trend that lean glycol cooler ES3008A is unable to cool lean glycol below 55 Deg C however TV300431A for cooling water is completely open no margin in control valve so can be suspected that coler might have got fouling and not able to achieve  proper heat tranfe\\r\\n\\r',\n",
       " 'Excursion details -   HP flaring observed from TEG B contactor VZ3002B  outlet stream to HP flare warm header, Flow meter 5FI300213B.PV\\r\\n\\r\\nAnalysis  It has been observed that continuous Flaring of 50   60 m3/hr occurs from TEG B contactor VZ3002B outlet stream to HP warm header 5FI300213B.PV.This flaring accounts to roughly 10 % of the total gas fed towards the fuel gas and HP1 compressor section The control valve on the HP warm header is completely closed as evident from feedback (5HIC300214B.OUT).\\r\\n\\r',\n",
       " 'Excursion details First Stage Separator VZ2001 A temperature transmitter USN_5TI200107.PV faulty.\\r\\n\\r\\nAnalysis It is been observed from few days that 1st stage separator B temperature traansmitter is showing wrong value(0-5DegC).\\r\\n\\r',\n",
       " 'Excursion details -Fine filters package outlet flow and total water injection flow is not matching\\r\\n\\r\\nAnalysis   Fine filters package outlet flow USN_5FI530108.PV or deaeration tower inlet flow and total water injection flow USN_5FY540216.PV is not matching.Since both the flowmeter is crirtical to monitor total water injection and wash water system flow\\r\\n\\r',\n",
       " 'Excursion details TEG A Glycol Cotactor PDIT USN_5PDI300208A.PV is Erratic\\r\\n\\r\\nAnalysis  It has been observed that Glycol CotactorVZ3002A PDIT USN_5PDI300208A.PV is showing negative value after 23rd December,However gas flow is constant.\\r\\n\\r',\n",
       " 'Excursion details - Lean glycol circulation Pump P-3006AA dischrge transmitter USN_5PI300689A-S.PV observed faulty\\r\\n\\r\\nAnalysis  It has been observed that  Lean glycol circulation Pump P-3006AA diachrge transmitter USN_5PI300689A-S.PV is showing 20 bar which is below LLSP (40 Bar) as per P&ID,However contactor is operating at higher pressure around 50 Bar for lean TEG to get dose into the contactor should be on higher pressure than contactor pressure.\\r\\n\\r',\n",
       " 'Excursion details Purge gas flow meter USN_5FI360031.PV which seems erratic from long time,\\r\\n\\r\\n it is reading same value 2146.18 m3/hr  on higher side.\\r\\n\\r\\nAnalysis  Purge gas flow meter USN_5FI360031.PV which seems erratic from long time,\\r\\n\\r\\n it is reading same value 2146.18 m3/hr  on higher side it is evident from long seeq trend\\r\\n\\r',\n",
       " 'Excursion details  Hot water pump 7201A/B discharge flow meter value is not updating\\r\\n\\r\\nAnalysis  It has been observed that Hot water pump 7201A/B discharge flow meter value is not updating since August 28th 2021\\r\\n\\r',\n",
       " 'Excursion details -ASV opening of  MP,HP1 and HP2 compressors KA3104A/3105A/3106A ,observed that its opening is on higher side (range) at same RPM\\r\\n\\r\\nAnalysis  .ASV opening of  MP,HP1 and HP2 compressors KA3104A/3105A/3106A ID observed that its opening is on higher side (range) at same RPM\\r\\n\\r',\n",
       " 'Excursion details - Lean Glycol pump discharge  flowrate FT USN_5FI300432A obsrved high.\\r\\n\\r\\nAnalysis  It is evident from trend that the Lean Glycol pump discharge  flowrate FT USN_5FI300432A is high,Whenevr train A is taken into line observed that lean glycol circulation rate not able to maintain 7m3/hr of lean glycol circulation rate into pump discharge.\\r\\n\\r',\n",
       " 'Excursion details - Glycol Contactor VZ3002A TEG oulet Standby LV USN_5LV300202AA.OUT functionality to be checked\\r\\n\\r\\nAnalysis  It has been observed that  Glycol Contactor VZ3002A TEG oulet Standby LV USN_5LV300202AA did not opened even though contactor level reached 96% on 26th july 2020.\\r\\n\\r',\n",
       " \"Excursion details -TEG Gas Coalescer Filter VF3003A Dp is high,PDIT 5PDI300304A  is constantly reading more than 1 barg\\r\\n\\r\\nAnalysis  PDIT 5PDI300304A  is constantly reading more than 1 barg,It's reflects that liner installed inside the coalescer fliter is choked which is unable to grasp free water or moisture from inlet gas. This will add to the water removal load of the contactor and also may incur high lean glycol consumption\\r\\n\\r\",\n",
       " 'Excursion details Lube oil level USN_5LI280101A.PV &USN_5LI280101B.PV of CDD VZ2801 Pumps (5P2801A/B ) Fluctuation \\r\\n\\r\\n it is reading same value 2146.18 m3/hr  on higher side.\\r\\n\\r\\nAnalysis  1) It has been observed that the Lube oil level of CDD VZ2801 Pumps (5P2801A/B ) are fluctuating a lot . increase in level of one Pump lube oil level (5LI280101B.PV) is followed by decrease in Level of other (5LI280101A.PV ) .\\r\\n\\r\\nThis looks like a common top up system is feeding both Pumps utilizing any balancing line provision . also the lube oil top up is very frequent occurrence (frequency in days) . This might be a Probable indicator of any Leakage in the Lube oil Circulation .\\r\\n\\r',\n",
       " 'Excursion details - Degassing Drum level has been observed to fluctuate a lot and at time it is observed to be on the extreme lower 8% and higher side 99% .As, Provided in the FS Plan, interface transmitter initially installed to feed the PWBT tanks on ratio level controls is not functional, Hence wanted to know how exactly the level transmitter is utilized to control the level of the Degassing drum.\\r\\n\\r\\n  At, higher levels we run at risk of Oily water carry over into the LP flare header which is detrimental for safe operation.\\r\\n\\r\\n  At, Lower levels we run at a risk of Gas blow by from the LP flare header into the PWBT which does not have provision for Degassing & this Blow by is detrimental to the functionality of the PWBT & associated PWBT Pumps.\\r\\n\\r\\n       As per the P&ID high level & Low level Trips are in place on the levels, but the High trip is on LT 270312 on the oil side & low level trip is marked on LT 270313 on the Water side .\\r\\n\\r\\n      Presently going by XHQ we only have LT 270313 marked for level indication on the Degassing drum.\\r\\n\\r\\nAs we know from the control philosophy that the degassing drum is floated with the LP flare with a restriction Orifice on the vapor service line to ensure minimum positive pressure During operation .This line also serves as the exit of the degassed Vapor to the LP flare .I observe that the Pressure transmitter on the degassing drum USN_5PI270311 Continuously reads a negative value.\\r\\n\\r',\n",
       " \"Excursion details -1st Stage Separator B Pressure Control valve USN_5PIC200302A  needs to be calibrated\\n\\nAnalysis  -1st Stage Separator B Pressure Control valve  needs to be calibrated,It's often observed that USN_5PIC200302A.doesn't close even if the  process value (PV) is  below set point(SPT) of the same controller.\\n\",\n",
       " 'Excursion  TEGB dehydarted gas outlet vs Lean glycol inlet temperature to contactor Approach temperature improvement\\r\\n\\r\\nAnalysis  It has been observed that USN_5TDC300431B-PI-S.PV has been reduced after 19th june.As it was maintaning 14Degc in range, we also observed lean glycol circulation rate is reduced by 2 m3/hr from 7.5m3/hr to 5.5m3/hr though gas inlet floe for the conactor is the same as earlier\\r\\n\\r',\n",
       " 'Excursion details -1st stage separator pressure went high upto 11 bar though set point was 5 bar\\n\\nAnalysis - Vessel pressure went more than two time of set pressure(5 Bar) and flare valve opened till 100% it may carry over the liquid into flare line.\\n',\n",
       " 'Excursion details - EP-7601A/B/C/D CW exchanger Approach temperature is in increasing trend over the period of last  1 year.\\r\\n\\r\\nAnalysis  It is evident from trend that the combined approach temperature of all the Cooling water heat exchangers has been observed to rise over a period of time & has significantly rose from 3 deg c to 8.5 deg c during the course of last one year. Steep changes in Approach temperature increment has been observed since Dec 2019 .\\r\\n\\r',\n",
       " 'Excursion details -1st Stage Separator train B oil level went more than high high limit 2 to 3 time i.e. more than 89.5% after startup.\\n\\nAnalysis - Level control valve was 100% open  working as per level control philosphy  but more flow can be achieved through bypass\\n',\n",
       " 'Excursion details - USN_4AI210151B/A Oil in water Analyzer in Both wash tank outlet is not functioning properly.\\r\\n\\r\\nAnalysis  It is evident from trend that from long time USN_4AI210151A/B oil in water analyzer readings in Both wash tank outlet is  showing constant reading on the higher range side .\\r\\n\\r',\n",
       " 'Excursion details -ES2001B Crude Oil heater DP transmitter USN_5PDI200127B is behaving abnormal it  went down below 0 KPA three times in a week.\\r\\n\\r\\nAnalysis  As it is being evident from Seeq trend crude oil heater ES2001B DP transmitter USN_5PDI200127B shows  abnormal reading,It went below 0 KPA even heater is inline  And pressure transmitter PI 200134BA of crude oil outlet lne is constantly reading the negative value from past few days.\\r\\n\\r',\n",
       " 'Excursion details -TEG B Contactor outlet and HP1 Suction temperature is not same \\r\\n\\r\\nAnalysis   TEG B Contactor outlet Temperature transmitter USN_5TI300227B-S.PV  and HP1 Suction temperature transmitter USN_5TI2-310522B-S.PV is not fetching same value.However  same gas is flowing from contactor outlet to HP1 compressor Suction and there is no cooler in between and we can see temperature diffrence of 3 to 5 degC in both transmitter.\\r\\n\\r',\n",
       " 'Excursion details -Fine Filters VF 5102C DP is in high range\\r\\n\\r\\nAnalysis  - Fine filtration package VF5102C DP is high  flow and Dp trend are irrelevant with respect to inlet flow control valve opening,\\r\\n\\r',\n",
       " 'Excursion details -MP compressor B KA 3104B  Discharge temperature is near to alarm set point\\r\\n\\r\\nAnalysis  -MP compressor B Discharge temperature is near to alarm set point .As due to cooling water temperature issue in plant compressor suction cooler not working effectevly.\\r\\n\\r',\n",
       " 'Excursion details - Fuel gas Filter VF 7001A/B  Dp tranmsitter USN_5PDI700142.PV is faulty\\r\\n\\r\\nAnalysis  Fuel gas Filter VF 7001A/B Dp is not reading actual value since long time it is been evident from trend that transmitter is showing -ve value.\\r\\n\\r',\n",
       " 'Excursion details  HP flare scrubber outlet SDV USN_5SDV360116-EO.PV in open condition\\r\\n\\r\\nAnalysis  It has been observed that  HP flare scrubber outlet SDV USN_5SDV360116-EO.PV in open condition, requested to check for actual stuck open condition in field or SDV feedback faulty.\\r\\n\\r\\nAlso observed that HP flare drum pumps P-3601 A/B are not coming in line. Suspecting liquid level is being maintained manually.\\r\\n\\r']"
      ]
     },
     "execution_count": 20,
     "metadata": {},
     "output_type": "execute_result"
    }
   ],
   "source": [
    "train_dataset.input_texts"
   ]
  },
  {
   "cell_type": "code",
   "execution_count": null,
   "id": "1ccc1897-6242-494a-8669-08f29689ba10",
   "metadata": {},
   "outputs": [],
   "source": []
  },
  {
   "cell_type": "code",
   "execution_count": 14,
   "id": "021f04b7-e413-4cd4-855b-baa88e823c27",
   "metadata": {},
   "outputs": [],
   "source": [
    "# Define training arguments\n",
    "training_args = TrainingArguments(\n",
    "    output_dir=\"./results\",\n",
    "    num_train_epochs=3,\n",
    "    per_device_train_batch_size=4,\n",
    "    per_device_eval_batch_size=4,\n",
    "    warmup_steps=500,\n",
    "    weight_decay=0.01,\n",
    "    logging_dir=\"./logs\",\n",
    "    logging_steps=10,\n",
    ")\n"
   ]
  },
  {
   "cell_type": "code",
   "execution_count": 15,
   "id": "92f5c09f-f2ec-4961-87fb-c16ba12bae10",
   "metadata": {},
   "outputs": [
    {
     "name": "stderr",
     "output_type": "stream",
     "text": [
      "C:\\Users\\Rajeev\\AppData\\Local\\Programs\\Python\\Python311\\Lib\\site-packages\\accelerate\\accelerator.py:432: FutureWarning: Passing the following arguments to `Accelerator` is deprecated and will be removed in version 1.0 of Accelerate: dict_keys(['dispatch_batches', 'split_batches', 'even_batches', 'use_seedable_sampler']). Please pass an `accelerate.DataLoaderConfiguration` instead: \n",
      "dataloader_config = DataLoaderConfiguration(dispatch_batches=None, split_batches=False, even_batches=True, use_seedable_sampler=True)\n",
      "  warnings.warn(\n"
     ]
    }
   ],
   "source": [
    "# Initialize our Trainer\n",
    "trainer = Trainer(\n",
    "    model=model,\n",
    "    args=training_args,\n",
    "    train_dataset=train_dataset,\n",
    "    eval_dataset=val_dataset\n",
    ")"
   ]
  },
  {
   "cell_type": "code",
   "execution_count": 16,
   "id": "aee54dca-f745-44d4-b0be-2889a510fd3e",
   "metadata": {},
   "outputs": [
    {
     "data": {
      "text/html": [
       "\n",
       "    <div>\n",
       "      \n",
       "      <progress value='30' max='30' style='width:300px; height:20px; vertical-align: middle;'></progress>\n",
       "      [30/30 04:00, Epoch 3/3]\n",
       "    </div>\n",
       "    <table border=\"1\" class=\"dataframe\">\n",
       "  <thead>\n",
       " <tr style=\"text-align: left;\">\n",
       "      <th>Step</th>\n",
       "      <th>Training Loss</th>\n",
       "    </tr>\n",
       "  </thead>\n",
       "  <tbody>\n",
       "    <tr>\n",
       "      <td>10</td>\n",
       "      <td>19.614900</td>\n",
       "    </tr>\n",
       "    <tr>\n",
       "      <td>20</td>\n",
       "      <td>18.318000</td>\n",
       "    </tr>\n",
       "    <tr>\n",
       "      <td>30</td>\n",
       "      <td>18.764200</td>\n",
       "    </tr>\n",
       "  </tbody>\n",
       "</table><p>"
      ],
      "text/plain": [
       "<IPython.core.display.HTML object>"
      ]
     },
     "metadata": {},
     "output_type": "display_data"
    },
    {
     "data": {
      "text/plain": [
       "TrainOutput(global_step=30, training_loss=18.89904276529948, metrics={'train_runtime': 249.2548, 'train_samples_per_second': 0.469, 'train_steps_per_second': 0.12, 'total_flos': 15834990772224.0, 'train_loss': 18.89904276529948, 'epoch': 3.0})"
      ]
     },
     "execution_count": 16,
     "metadata": {},
     "output_type": "execute_result"
    }
   ],
   "source": [
    "# Train the model\n",
    "trainer.train()"
   ]
  },
  {
   "cell_type": "code",
   "execution_count": 18,
   "id": "37388fc0-d7e9-463c-a961-e8a8dc3415aa",
   "metadata": {},
   "outputs": [
    {
     "name": "stdout",
     "output_type": "stream",
     "text": [
      "Excursion Details - -1st stage separator pressure went high up to 15 bar though set point was 7 bar. Analysis - Vessel pressure went high up to 15 bar though set point was 7 bar.\n"
     ]
    }
   ],
   "source": [
    "# Prediction\n",
    "input_text = \"Excursion details -1st stage separator pressure went high upto 15 bar though set point was 7 bar. Analysis - Vessel pressure went more than two time of set pressure and flare valve opened till 100%\"\n",
    "input_tokenized = tokenizer.encode(input_text, return_tensors=\"pt\")\n",
    "\n",
    "output_tokens = model.generate(input_tokenized, max_length=512, num_beams=5, early_stopping=True)\n",
    "output_text = tokenizer.decode(output_tokens[0], skip_special_tokens=True)\n",
    "\n",
    "print(output_text)\n"
   ]
  },
  {
   "cell_type": "code",
   "execution_count": null,
   "id": "f8ba4311-ed96-4ad1-ae00-0552f021593b",
   "metadata": {},
   "outputs": [],
   "source": []
  }
 ],
 "metadata": {
  "kernelspec": {
   "display_name": "Python 3 (ipykernel)",
   "language": "python",
   "name": "python3"
  },
  "language_info": {
   "codemirror_mode": {
    "name": "ipython",
    "version": 3
   },
   "file_extension": ".py",
   "mimetype": "text/x-python",
   "name": "python",
   "nbconvert_exporter": "python",
   "pygments_lexer": "ipython3",
   "version": "3.11.5"
  }
 },
 "nbformat": 4,
 "nbformat_minor": 5
}
